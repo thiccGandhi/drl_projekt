{
 "cells": [
  {
   "cell_type": "code",
   "execution_count": 1,
   "id": "934772f2",
   "metadata": {},
   "outputs": [],
   "source": [
    "import gymnasium as gym\n",
    "import gymnasium_robotics\n",
    "import imageio"
   ]
  },
  {
   "cell_type": "code",
   "execution_count": 2,
   "id": "2d9fb3eb",
   "metadata": {},
   "outputs": [
    {
     "data": {
      "text/plain": [
       "({'observation': array([ 1.34551571e+00,  7.49026140e-01,  4.13616956e-01,  1.48610089e+00,\n",
       "          7.85104677e-01,  4.24702090e-01,  1.40585181e-01,  3.60785374e-02,\n",
       "          1.10851343e-02, -2.45578743e-06,  1.21361117e-03,  3.89670810e-17,\n",
       "         -4.58264865e-17,  1.56464781e-15,  4.99835723e-04, -3.61217495e-05,\n",
       "          3.88756849e-05, -8.02808770e-18,  2.57610560e-17, -1.48414578e-19,\n",
       "         -4.99835723e-04,  3.61217495e-05,  7.95232038e-06,  2.51174482e-07,\n",
       "          7.48549421e-05]),\n",
       "  'achieved_goal': array([1.48610089, 0.78510468, 0.42470209]),\n",
       "  'desired_goal': array([1.41760375, 0.87702663, 0.42469975])},\n",
       " {})"
      ]
     },
     "execution_count": 2,
     "metadata": {},
     "output_type": "execute_result"
    }
   ],
   "source": [
    "gym.register_envs(gymnasium_robotics)\n",
    "env = gym.make(\"FetchPush-v4\")\n",
    "env.reset()"
   ]
  },
  {
   "cell_type": "code",
   "execution_count": 3,
   "id": "6dc2108e",
   "metadata": {},
   "outputs": [
    {
     "data": {
      "text/plain": [
       "23"
      ]
     },
     "execution_count": 3,
     "metadata": {},
     "output_type": "execute_result"
    }
   ],
   "source": [
    "list(env.unwrapped.model.names[env.unwrapped.model.name_geomadr[0]:].split(b'\\x00')).index(b\"object0\")"
   ]
  },
  {
   "cell_type": "code",
   "execution_count": 4,
   "id": "fa22e474",
   "metadata": {},
   "outputs": [
    {
     "data": {
      "text/plain": [
       "array([0.001 , 0.005 , 0.0001])"
      ]
     },
     "execution_count": 4,
     "metadata": {},
     "output_type": "execute_result"
    }
   ],
   "source": [
    "env.unwrapped.model.geom_friction[23]"
   ]
  },
  {
   "cell_type": "code",
   "execution_count": 5,
   "id": "04c0375c",
   "metadata": {},
   "outputs": [
    {
     "data": {
      "text/plain": [
       "b'MuJoCo Model\\x00world\\x00floor0\\x00robot0:mocap\\x00robot0:base_link\\x00robot0:torso_lift_link\\x00robot0:head_pan_link\\x00robot0:head_tilt_link\\x00robot0:head_camera_link\\x00robot0:head_camera_rgb_frame\\x00robot0:head_camera_rgb_optical_frame\\x00robot0:head_camera_depth_frame\\x00robot0:head_camera_depth_optical_frame\\x00robot0:shoulder_pan_link\\x00robot0:shoulder_lift_link\\x00robot0:upperarm_roll_link\\x00robot0:elbow_flex_link\\x00robot0:forearm_roll_link\\x00robot0:wrist_flex_link\\x00robot0:wrist_roll_link\\x00robot0:gripper_link\\x00robot0:gripper_camera_link\\x00robot0:gripper_camera_rgb_frame\\x00robot0:gripper_camera_rgb_optical_frame\\x00robot0:gripper_camera_depth_frame\\x00robot0:gripper_camera_depth_optical_frame\\x00robot0:r_gripper_finger_link\\x00robot0:l_gripper_finger_link\\x00robot0:estop_link\\x00robot0:laser_link\\x00robot0:torso_fixed_link\\x00robot0:external_camera_body_0\\x00table0\\x00object0\\x00robot0:slide0\\x00robot0:slide1\\x00robot0:slide2\\x00robot0:torso_lift_joint\\x00robot0:head_pan_joint\\x00robot0:head_tilt_joint\\x00robot0:shoulder_pan_joint\\x00robot0:shoulder_lift_joint\\x00robot0:upperarm_roll_joint\\x00robot0:elbow_flex_joint\\x00robot0:forearm_roll_joint\\x00robot0:wrist_flex_joint\\x00robot0:wrist_roll_joint\\x00robot0:r_gripper_finger_joint\\x00robot0:l_gripper_finger_joint\\x00object0:joint\\x00floor0\\x00\\x00\\x00\\x00\\x00robot0:base_link\\x00robot0:torso_lift_link\\x00robot0:head_pan_link\\x00robot0:head_tilt_link\\x00robot0:shoulder_pan_link\\x00robot0:shoulder_lift_link\\x00robot0:upperarm_roll_link\\x00robot0:elbow_flex_link\\x00robot0:forearm_roll_link\\x00robot0:wrist_flex_link\\x00robot0:wrist_roll_link\\x00robot0:gripper_link\\x00robot0:r_gripper_finger_link\\x00robot0:l_gripper_finger_link\\x00robot0:estop_link\\x00robot0:laser_link\\x00robot0:torso_fixed_link\\x00\\x00object0\\x00target0\\x00robot0:grip\\x00object0\\x00head_camera_rgb\\x00gripper_camera_rgb\\x00lidar\\x00external_camera_0\\x00light0\\x00robot0:base_link\\x00robot0:bellows_link\\x00robot0:elbow_flex_link\\x00robot0:estop_link\\x00robot0:forearm_roll_link\\x00robot0:gripper_link\\x00robot0:head_pan_link\\x00robot0:head_tilt_link\\x00robot0:l_wheel_link\\x00robot0:laser_link\\x00robot0:r_wheel_link\\x00robot0:torso_lift_link\\x00robot0:shoulder_pan_link\\x00robot0:shoulder_lift_link\\x00robot0:upperarm_roll_link\\x00robot0:wrist_flex_link\\x00robot0:wrist_roll_link\\x00robot0:torso_fixed_link\\x00\\x00texture_block\\x00floor_mat\\x00table_mat\\x00block_mat\\x00puck_mat\\x00robot0:geomMat\\x00robot0:gripper_finger_mat\\x00robot0:gripper_mat\\x00robot0:arm_mat\\x00robot0:head_mat\\x00robot0:torso_mat\\x00robot0:base_mat\\x00\\x00\\x00\\x00\\x00'"
      ]
     },
     "execution_count": 5,
     "metadata": {},
     "output_type": "execute_result"
    }
   ],
   "source": [
    "env.unwrapped.model.names"
   ]
  },
  {
   "cell_type": "code",
   "execution_count": 6,
   "id": "c18a61f1",
   "metadata": {},
   "outputs": [
    {
     "name": "stdout",
     "output_type": "stream",
     "text": [
      "Saved gif to test_fixed.gif with 50 frames\n"
     ]
    }
   ],
   "source": [
    "# Try setting some environment variables that might fix the OpenGL issue\n",
    "import os\n",
    "os.environ['MUJOCO_GL'] = 'egl'  # Use EGL for headless rendering\n",
    "os.environ['PYOPENGL_PLATFORM'] = 'egl'\n",
    "\n",
    "# Now try your original code with a step limit for safety\n",
    "env = gym.make(\"FetchPush-v4\", render_mode=\"rgb_array\")\n",
    "\n",
    "# Record frames\n",
    "frames = []\n",
    "obs, _ = env.reset()\n",
    "done = False\n",
    "max_steps = 100  # Add a safety limit\n",
    "\n",
    "step_count = 0\n",
    "while not done and step_count < max_steps:\n",
    "    # Predict action\n",
    "    action = env.action_space.sample()\n",
    "\n",
    "    # Step the environment\n",
    "    obs, reward, terminated, truncated, _ = env.step(action)\n",
    "    done = terminated or truncated\n",
    "\n",
    "    # Render and save frame\n",
    "    frame = env.render()\n",
    "    frames.append(frame)\n",
    "    \n",
    "    step_count += 1\n",
    "\n",
    "env.close()\n",
    "\n",
    "# Save the GIF\n",
    "gif_path = \"test_fixed.gif\"\n",
    "imageio.mimsave(gif_path, frames, duration=1/30, loop=0)  # 30 FPS\n",
    "print(f\"Saved gif to {gif_path} with {len(frames)} frames\")"
   ]
  },
  {
   "cell_type": "code",
   "execution_count": null,
   "id": "0fb12224",
   "metadata": {},
   "outputs": [],
   "source": []
  }
 ],
 "metadata": {
  "kernelspec": {
   "display_name": "rl_env",
   "language": "python",
   "name": "python3"
  },
  "language_info": {
   "codemirror_mode": {
    "name": "ipython",
    "version": 3
   },
   "file_extension": ".py",
   "mimetype": "text/x-python",
   "name": "python",
   "nbconvert_exporter": "python",
   "pygments_lexer": "ipython3",
   "version": "3.11.11"
  }
 },
 "nbformat": 4,
 "nbformat_minor": 5
}
