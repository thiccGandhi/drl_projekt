{
 "cells": [
  {
   "cell_type": "code",
   "execution_count": 2,
   "id": "39d64c2a",
   "metadata": {},
   "outputs": [
    {
     "ename": "ModuleNotFoundError",
     "evalue": "No module named 'utils.change_parameters'",
     "output_type": "error",
     "traceback": [
      "\u001b[31m---------------------------------------------------------------------------\u001b[39m",
      "\u001b[31mModuleNotFoundError\u001b[39m                       Traceback (most recent call last)",
      "\u001b[36mCell\u001b[39m\u001b[36m \u001b[39m\u001b[32mIn[2]\u001b[39m\u001b[32m, line 10\u001b[39m\n\u001b[32m      7\u001b[39m logging.getLogger(\u001b[33m'\u001b[39m\u001b[33mmujoco\u001b[39m\u001b[33m'\u001b[39m).setLevel(logging.ERROR)\n\u001b[32m      9\u001b[39m \u001b[38;5;28;01mimport\u001b[39;00m\u001b[38;5;250m \u001b[39m\u001b[34;01mgymnasium\u001b[39;00m\u001b[38;5;250m \u001b[39m\u001b[38;5;28;01mas\u001b[39;00m\u001b[38;5;250m \u001b[39m\u001b[34;01mgym\u001b[39;00m,\u001b[38;5;250m \u001b[39m\u001b[34;01mgymnasium_robotics\u001b[39;00m,\u001b[38;5;250m \u001b[39m\u001b[34;01mmujoco\u001b[39;00m,\u001b[38;5;250m \u001b[39m\u001b[34;01mnumpy\u001b[39;00m\u001b[38;5;250m \u001b[39m\u001b[38;5;28;01mas\u001b[39;00m\u001b[38;5;250m \u001b[39m\u001b[34;01mnp\u001b[39;00m\n\u001b[32m---> \u001b[39m\u001b[32m10\u001b[39m \u001b[38;5;28;01mfrom\u001b[39;00m\u001b[38;5;250m \u001b[39m\u001b[34;01mutils\u001b[39;00m\u001b[34;01m.\u001b[39;00m\u001b[34;01mchange_parameters\u001b[39;00m\u001b[38;5;250m \u001b[39m\u001b[38;5;28;01mimport\u001b[39;00m (\n\u001b[32m     11\u001b[39m     jprint, snapshot_geom_and_body,\n\u001b[32m     12\u001b[39m     apply_override, apply_friction_override,\n\u001b[32m     13\u001b[39m     contact_friction_product\n\u001b[32m     14\u001b[39m )\n\u001b[32m     16\u001b[39m os.environ[\u001b[33m'\u001b[39m\u001b[33mMUJOCO_GL\u001b[39m\u001b[33m'\u001b[39m] = \u001b[33m'\u001b[39m\u001b[33megl\u001b[39m\u001b[33m'\u001b[39m\n\u001b[32m     17\u001b[39m os.environ[\u001b[33m'\u001b[39m\u001b[33mPYOPENGL_PLATFORM\u001b[39m\u001b[33m'\u001b[39m] = \u001b[33m'\u001b[39m\u001b[33megl\u001b[39m\u001b[33m'\u001b[39m\n",
      "\u001b[31mModuleNotFoundError\u001b[39m: No module named 'utils.change_parameters'"
     ]
    }
   ],
   "source": [
    "# main.py (excerpt) — unified, minimal, reproducible\n",
    "\n",
    "import os, sys, json\n",
    "#sys.path.append(\"/home/ul/ul_student/ul_cep22/my_folders/drl_projekt\")\n",
    "sys.path.append(\"/home/ul/ul_student/ul_uqr59/drl_project\")\n",
    "import logging\n",
    "logging.getLogger('mujoco').setLevel(logging.ERROR)\n",
    "\n",
    "import gymnasium as gym, gymnasium_robotics, mujoco, numpy as np\n",
    "from utils.change_parameters import (\n",
    "    jprint, snapshot_geom_and_body,\n",
    "    apply_override, apply_friction_override,\n",
    "    contact_friction_product\n",
    ")\n",
    "\n",
    "os.environ['MUJOCO_GL'] = 'egl'\n",
    "os.environ['PYOPENGL_PLATFORM'] = 'egl'\n",
    "\n",
    "config_path = \"/home/ul/ul_student/ul_uqr59/drl_project/configs/test.json\"\n",
    "config = json.load(open(config_path))\n",
    "\n",
    "gym.register_envs(gymnasium_robotics)\n",
    "env = gym.make(config[\"env_name\"], render_mode=\"rgb_array\")\n",
    "env.reset()\n",
    "\n",
    "# ===== BEFORE: compiled (XML-derived) state =====\n",
    "snap_before = snapshot_geom_and_body(env, \"object0\")\n",
    "jprint(\"[BEFORE  XML/COMPILED]\", snap_before)\n",
    "\n",
    "config[\"object_gid\"]           = snap_before[\"geom\"][\"gid\"]\n",
    "config[\"object_type_initial\"]  = snap_before[\"geom\"][\"type\"]\n",
    "config[\"object_size_initial\"]  = snap_before[\"geom\"][\"size\"]\n",
    "config[\"body_mass_initial\"]    = snap_before[\"body\"][\"mass\"]\n",
    "config[\"body_inertia_initial\"] = snap_before[\"body\"][\"inertia_diag\"]\n",
    "config[\"friction_initial\"]     = snap_before[\"geom\"][\"friction\"]\n",
    "config[\"condim_initial\"]       = snap_before[\"geom\"][\"condim\"]\n",
    "\n",
    "ovr = config.get(\"override_object\")\n",
    "if ovr:\n",
    "    jprint(\"[REQUESTED SHAPE OVERRIDE]\", {\n",
    "        \"name\": ovr.get(\"name\", \"object0\"),\n",
    "        \"type\": ovr.get(\"type\"),\n",
    "        \"size\": ovr.get(\"size\"),\n",
    "        \"mass\": ovr.get(\"mass\", None),\n",
    "        \"update_inertia\": bool(ovr.get(\"update_inertia\", False)),\n",
    "    })\n",
    "    res_shape = apply_override(\n",
    "        env,\n",
    "        name=ovr.get(\"name\", \"object0\"),\n",
    "        typ=ovr[\"type\"],\n",
    "        size=ovr[\"size\"],\n",
    "        mass=ovr.get(\"mass\", None),\n",
    "        update_inertia=bool(ovr.get(\"update_inertia\", False)),\n",
    "        atol=1e-9,\n",
    "    )\n",
    "    jprint(\"[AFTER  SHAPE]\", {\"ok\": res_shape[\"ok\"], \"after\": res_shape[\"after\"]})\n",
    "    # record\n",
    "    snap_shape = snapshot_geom_and_body(env, ovr.get(\"name\", \"object0\"))\n",
    "    config[\"object_type_final\"]      = snap_shape[\"geom\"][\"type\"]\n",
    "    config[\"object_size_final\"]      = snap_shape[\"geom\"][\"size\"]\n",
    "    config[\"body_mass_final\"]        = snap_shape[\"body\"][\"mass\"]\n",
    "    config[\"body_inertia_final\"]     = snap_shape[\"body\"][\"inertia_diag\"]\n",
    "    config[\"object_inertia_updated\"] = res_shape[\"inertia_updated\"]\n",
    "\n",
    "# ===== FRICTION OVERRIDE =====\n",
    "# \"override_friction\": {\"name\":\"object0\", \"friction\":[0.8, 0.0, 0.0], \"condim\":1}\n",
    "fovr = config.get(\"override_friction\")\n",
    "if fovr:\n",
    "    jprint(\"[REQUESTED FRICTION OVERRIDE]\", fovr)\n",
    "    res_fric = apply_friction_override(\n",
    "        env,\n",
    "        name=fovr.get(\"name\", \"object0\"),\n",
    "        friction=fovr[\"friction\"],\n",
    "        condim=fovr.get(\"condim\", None),\n",
    "        atol=1e-9,\n",
    "    )\n",
    "    jprint(\"[AFTER  FRICTION]\", res_fric)\n",
    "    config[\"friction_final\"] = res_fric[\"after\"][\"friction\"]\n",
    "    config[\"condim_final\"]   = res_fric[\"after\"][\"condim\"]\n",
    "\n",
    "    try:\n",
    "        eff = contact_friction_product(env, fovr.get(\"name\", \"object0\"), \"geom_22\")\n",
    "        jprint(\"[CONTACT FRICTION object0 x table]\", {\"effective\": eff.tolist()})\n",
    "    except Exception:\n",
    "        pass\n"
   ]
  },
  {
   "cell_type": "code",
   "execution_count": 1,
   "id": "e559b060",
   "metadata": {},
   "outputs": [
    {
     "name": "stdout",
     "output_type": "stream",
     "text": [
      "['/home/ul/ul_student/ul_uqr59/miniconda3/envs/rl_env/lib/python311.zip', '/home/ul/ul_student/ul_uqr59/miniconda3/envs/rl_env/lib/python3.11', '/home/ul/ul_student/ul_uqr59/miniconda3/envs/rl_env/lib/python3.11/lib-dynload', '', '/home/ul/ul_student/ul_uqr59/miniconda3/envs/rl_env/lib/python3.11/site-packages', '/home/ul/ul_student/ul_uqr59/drl_project']\n",
      "['main_v1.ipynb', 'learning_version_ToDoStill', 'test_ddpg_impl_608806.log', 'test_td3_impl_1132867.log', 'test_ddpg_impl_614339.log', 'output_test.sh', 'test_td3_impl_724967.log', '~', 'test_td3_impl_614750.log', 'test_td3_impl_615500.log', 'test_ddpg_impl_609854.log', 'test_td3_impl_614754.log', 'test_files', '.idea', 'test_capsule.gif', 'test_td3_impl_1132879.log', 'test_td3_impl_1136836.log', 'test_main.sh', 'replay_buffer', 'README.md', 'example.ipynb', 'test_ellipsoid.gif', 'test_td3_impl_615521.log', '.env', 'test_td3_impl_729107.log', 'test_td3_impl_1132958.log', 'test_td3_impl_1132813.log', 'test_td3_impl_728561.log', 'test_td3_impl_1132930.log', 'test_td3_impl_1132805.log', '.git', 'test_fixed.gif', 'test_td3_impl_1132866.log', 'networks', 'test_td3_impl_1132903.log', 'wandb', 'test_td3_impl_724930.log', 'test_ddpg_impl_608738.log', 'test_ddpg_impl_608820.log', 'test_td3_impl_1132656.log', 'test_td3_impl_724971.log', 'test_sphere.gif', 'configs', 'test_ddpg_impl_608764.log', 'agents', 'playground', 'output_test.py', 'test_td3_impl_725000.log', 'test_ddpg_impl_614350.log', 'test_ddpg_impl_614360.log', 'test_ddpg_impl_608792.log', 'test_ddpg_impl_608782.log', 'test_td3_impl_645640.log', 'test_td3_impl_1132666.log', 'test_td3_impl_1132760.log', 'test_td3_impl_628188.log', 'test_ddpg_impl_614184.log', 'test_ddpg_impl_609857.log', 'main.py', 'test_td3_impl_724882.log', 'trainer', 'test_td3_impl_728548.log', 'test_td3_impl_724861.log', 'test_td3_impl_645644.log', 'test_td3_impl_728893.log', 'test_td3_impl_1132776.log', 'test_td3_impl_614758.log', 'test_td3_impl_1132673.log', 'main_SAC.py', 'test_ddpg_impl_608754.log', 'test_ddpg_impl_614332.log', 'test_ddpg_impl_614375.log', 'test_ddpg_impl_515226.log', 'test_td3_impl_729108.log', 'test_td3_impl_1132861.log', 'test_ddpg_impl_614179.log', 'test_td3_impl_1132741.log', 'test_td3_impl_1132798.log', 'test_td3_impl_724864.log', 'test_results', 'test_td3_impl_724833.log', 'test_td3_impl_615668.log', 'utils', 'test_td3_impl_615839.log', 'TEST.md', 'output_test1132917.log', 'test_td3_impl_614744.log', 'test_ddpg_impl_614180.log', 'test_td3_impl_1132870.log', 'test_ddpg_impl_614328.log', 'test_ddpg_impl_614065.log', '.gitignore', 'test_td3_impl_614760.log']\n",
      "['change_parameters.py', 'plotting.py', '__pycache__', 'logging.py', '__init__.py']\n"
     ]
    },
    {
     "ename": "ModuleNotFoundError",
     "evalue": "No module named 'utils.change_parameters'",
     "output_type": "error",
     "traceback": [
      "\u001b[31m---------------------------------------------------------------------------\u001b[39m",
      "\u001b[31mModuleNotFoundError\u001b[39m                       Traceback (most recent call last)",
      "\u001b[36mCell\u001b[39m\u001b[36m \u001b[39m\u001b[32mIn[1]\u001b[39m\u001b[32m, line 12\u001b[39m\n\u001b[32m      9\u001b[39m logging.getLogger(\u001b[33m'\u001b[39m\u001b[33mmujoco\u001b[39m\u001b[33m'\u001b[39m).setLevel(logging.ERROR)\n\u001b[32m     11\u001b[39m \u001b[38;5;28;01mimport\u001b[39;00m\u001b[38;5;250m \u001b[39m\u001b[34;01mgymnasium\u001b[39;00m\u001b[38;5;250m \u001b[39m\u001b[38;5;28;01mas\u001b[39;00m\u001b[38;5;250m \u001b[39m\u001b[34;01mgym\u001b[39;00m,\u001b[38;5;250m \u001b[39m\u001b[34;01mgymnasium_robotics\u001b[39;00m,\u001b[38;5;250m \u001b[39m\u001b[34;01mmujoco\u001b[39;00m,\u001b[38;5;250m \u001b[39m\u001b[34;01mnumpy\u001b[39;00m\u001b[38;5;250m \u001b[39m\u001b[38;5;28;01mas\u001b[39;00m\u001b[38;5;250m \u001b[39m\u001b[34;01mnp\u001b[39;00m\n\u001b[32m---> \u001b[39m\u001b[32m12\u001b[39m \u001b[38;5;28;01mfrom\u001b[39;00m\u001b[38;5;250m \u001b[39m\u001b[34;01mutils\u001b[39;00m\u001b[34;01m.\u001b[39;00m\u001b[34;01mchange_parameters\u001b[39;00m\u001b[38;5;250m \u001b[39m\u001b[38;5;28;01mimport\u001b[39;00m (\n\u001b[32m     13\u001b[39m     jprint, snapshot_geom_and_body,\n\u001b[32m     14\u001b[39m     apply_override, apply_friction_override,\n\u001b[32m     15\u001b[39m     contact_friction_product\n\u001b[32m     16\u001b[39m )\n\u001b[32m     18\u001b[39m os.environ[\u001b[33m'\u001b[39m\u001b[33mMUJOCO_GL\u001b[39m\u001b[33m'\u001b[39m] = \u001b[33m'\u001b[39m\u001b[33megl\u001b[39m\u001b[33m'\u001b[39m\n\u001b[32m     19\u001b[39m os.environ[\u001b[33m'\u001b[39m\u001b[33mPYOPENGL_PLATFORM\u001b[39m\u001b[33m'\u001b[39m] = \u001b[33m'\u001b[39m\u001b[33megl\u001b[39m\u001b[33m'\u001b[39m\n",
      "\u001b[31mModuleNotFoundError\u001b[39m: No module named 'utils.change_parameters'"
     ]
    }
   ],
   "source": [
    "import os, sys, json\n",
    "#sys.path.append(\"/home/ul/ul_student/ul_cep22/my_folders/drl_projekt\")\n",
    "sys.path.append(\"/home/ul/ul_student/ul_uqr59/drl_project\")\n",
    "\n",
    "print(sys.path)\n",
    "print(os.listdir(\"/home/ul/ul_student/ul_uqr59/drl_project\"))\n",
    "print(os.listdir(\"/home/ul/ul_student/ul_uqr59/drl_project/utils\"))\n",
    "import logging\n",
    "logging.getLogger('mujoco').setLevel(logging.ERROR)\n",
    "\n",
    "import gymnasium as gym, gymnasium_robotics, mujoco, numpy as np\n",
    "from utils.change_parameters import (\n",
    "    jprint, snapshot_geom_and_body,\n",
    "    apply_override, apply_friction_override,\n",
    "    contact_friction_product\n",
    ")\n",
    "\n",
    "os.environ['MUJOCO_GL'] = 'egl'\n",
    "os.environ['PYOPENGL_PLATFORM'] = 'egl'\n",
    "\n",
    "config_path = \"/home/ul/ul_student/ul_uqr59/drl_project/configs/test.json\"\n",
    "config = json.load(open(config_path))"
   ]
  }
 ],
 "metadata": {
  "kernelspec": {
   "display_name": "rl_env",
   "language": "python",
   "name": "python3"
  },
  "language_info": {
   "codemirror_mode": {
    "name": "ipython",
    "version": 3
   },
   "file_extension": ".py",
   "mimetype": "text/x-python",
   "name": "python",
   "nbconvert_exporter": "python",
   "pygments_lexer": "ipython3",
   "version": "3.11.11"
  }
 },
 "nbformat": 4,
 "nbformat_minor": 5
}
