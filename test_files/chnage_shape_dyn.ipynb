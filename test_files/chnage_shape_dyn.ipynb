{
 "cells": [
  {
   "cell_type": "code",
   "execution_count": null,
   "id": "d2220890",
   "metadata": {},
   "outputs": [
    {
     "name": "stdout",
     "output_type": "stream",
     "text": [
      "Geom override: True {'gid': 23, 'type': 'ellipsoid', 'size': array([0.025, 0.02 , 0.015]), 'dataid': -1, 'body_id': 32}\n"
     ]
    }
   ],
   "source": [
    "# main.py (excerpt)\n",
    "\n",
    "import os, sys, json\n",
    "\n",
    "sys.path.append(\"/home/ul/ul_student/ul_cep22/my_folders/drl_projekt\")\n",
    "\n",
    "import gymnasium as gym\n",
    "import gymnasium_robotics\n",
    "import mujoco\n",
    "import numpy as np\n",
    "\n",
    "from utils.change_shape import get_geom_info, apply_override  # <-- NEW\n",
    "\n",
    "os.environ['MUJOCO_GL'] = 'egl'\n",
    "os.environ['PYOPENGL_PLATFORM'] = 'egl'\n",
    "\n",
    "config = json.load(open(\"/home/ul/ul_student/ul_cep22/my_folders/drl_projekt/configs/test.json\"))\n",
    "\n",
    "gym.register_envs(gymnasium_robotics)\n",
    "env = gym.make(config[\"env_name\"], render_mode=\"rgb_array\")\n",
    "env.reset()\n",
    "\n",
    "# Log initial object geom info (by name, not index)\n",
    "obj_info_init = get_geom_info(env, \"object0\")\n",
    "config[\"object_type_initial\"] = obj_info_init[\"type\"]\n",
    "config[\"object_size_initial\"] = obj_info_init[\"size\"].tolist()\n",
    "config[\"object_gid\"] = obj_info_init[\"gid\"]\n",
    "\n",
    "# === DYNAMIC OVERRIDE FROM CONFIG ===\n",
    "# Example in configs/test.json:\n",
    "# \"override_object\": {\"name\":\"object0\",\"type\":\"ellipsoid\",\"size\":[0.025,0.02,0.015],\"mass\":2.0,\"update_inertia\":true}\n",
    "ovr = config.get(\"override_object\")\n",
    "if ovr:\n",
    "    result = apply_override(\n",
    "        env,\n",
    "        name=ovr.get(\"name\", \"object0\"),\n",
    "        typ=ovr[\"type\"],\n",
    "        size=ovr[\"size\"],\n",
    "        mass=ovr.get(\"mass\", None),\n",
    "        update_inertia=bool(ovr.get(\"update_inertia\", False)),\n",
    "        atol=1e-9,\n",
    "    )\n",
    "    print(\"Geom override:\", result[\"ok\"], result[\"after\"])\n",
    "    config[\"object_type_final\"] = result[\"after\"][\"type\"]\n",
    "    config[\"object_size_final\"] = np.asarray(result[\"after\"][\"size\"]).tolist()\n",
    "    config[\"object_inertia_updated\"] = result[\"inertia_updated\"]\n"
   ]
  }
 ],
 "metadata": {
  "kernelspec": {
   "display_name": "drl_venv_py312",
   "language": "python",
   "name": "python3"
  },
  "language_info": {
   "codemirror_mode": {
    "name": "ipython",
    "version": 3
   },
   "file_extension": ".py",
   "mimetype": "text/x-python",
   "name": "python",
   "nbconvert_exporter": "python",
   "pygments_lexer": "ipython3",
   "version": "3.12.1"
  }
 },
 "nbformat": 4,
 "nbformat_minor": 5
}
